{
  "nbformat": 4,
  "nbformat_minor": 0,
  "metadata": {
    "colab": {
      "provenance": [],
      "gpuType": "T4",
      "authorship_tag": "ABX9TyPVQwwS3mlo3e5Fj0kDPOAJ",
      "include_colab_link": true
    },
    "kernelspec": {
      "name": "python3",
      "display_name": "Python 3"
    },
    "language_info": {
      "name": "python"
    },
    "accelerator": "GPU"
  },
  "cells": [
    {
      "cell_type": "markdown",
      "metadata": {
        "id": "view-in-github",
        "colab_type": "text"
      },
      "source": [
        "<a href=\"https://colab.research.google.com/github/kuds/rl-atari-tennis/blob/main/%5BAtari%20Tennis%5D%20Single-Agent%20Reinforcement%20Learning%20PPO.ipynb\" target=\"_parent\"><img src=\"https://colab.research.google.com/assets/colab-badge.svg\" alt=\"Open In Colab\"/></a>"
      ]
    },
    {
      "cell_type": "markdown",
      "source": [
        "# [Atari Tennis] Single-Agent Reinforcement Learning"
      ],
      "metadata": {
        "id": "ob-2hGT3jNdX"
      }
    },
    {
      "cell_type": "code",
      "source": [
        "!pip install swig"
      ],
      "metadata": {
        "id": "Fy1WJ1R-iP4V",
        "colab": {
          "base_uri": "https://localhost:8080/"
        },
        "outputId": "2a692bbe-d4ef-488e-b61e-b2136c74d2ca"
      },
      "execution_count": 1,
      "outputs": [
        {
          "output_type": "stream",
          "name": "stdout",
          "text": [
            "Collecting swig\n",
            "  Downloading swig-4.2.1-py2.py3-none-manylinux_2_5_x86_64.manylinux1_x86_64.whl.metadata (3.6 kB)\n",
            "Downloading swig-4.2.1-py2.py3-none-manylinux_2_5_x86_64.manylinux1_x86_64.whl (1.9 MB)\n",
            "\u001b[2K   \u001b[90m━━━━━━━━━━━━━━━━━━━━━━━━━━━━━━━━━━━━━━━━\u001b[0m \u001b[32m1.9/1.9 MB\u001b[0m \u001b[31m14.0 MB/s\u001b[0m eta \u001b[36m0:00:00\u001b[0m\n",
            "\u001b[?25hInstalling collected packages: swig\n",
            "Successfully installed swig-4.2.1\n"
          ]
        }
      ]
    },
    {
      "cell_type": "code",
      "source": [
        "!pip install gymnasium gymnasium[atari] autorom"
      ],
      "metadata": {
        "id": "7U_qTvGlj2oy",
        "colab": {
          "base_uri": "https://localhost:8080/"
        },
        "outputId": "41c4b158-a1a1-4de8-9237-5f54731551ae"
      },
      "execution_count": 2,
      "outputs": [
        {
          "output_type": "stream",
          "name": "stdout",
          "text": [
            "Collecting gymnasium\n",
            "  Downloading gymnasium-0.29.1-py3-none-any.whl.metadata (10 kB)\n",
            "Collecting autorom\n",
            "  Downloading AutoROM-0.6.1-py3-none-any.whl.metadata (2.4 kB)\n",
            "Requirement already satisfied: numpy>=1.21.0 in /usr/local/lib/python3.10/dist-packages (from gymnasium) (1.26.4)\n",
            "Requirement already satisfied: cloudpickle>=1.2.0 in /usr/local/lib/python3.10/dist-packages (from gymnasium) (2.2.1)\n",
            "Requirement already satisfied: typing-extensions>=4.3.0 in /usr/local/lib/python3.10/dist-packages (from gymnasium) (4.12.2)\n",
            "Collecting farama-notifications>=0.0.1 (from gymnasium)\n",
            "  Downloading Farama_Notifications-0.0.4-py3-none-any.whl.metadata (558 bytes)\n",
            "Collecting shimmy<1.0,>=0.1.0 (from shimmy[atari]<1.0,>=0.1.0; extra == \"atari\"->gymnasium[atari])\n",
            "  Downloading Shimmy-0.2.1-py3-none-any.whl.metadata (2.3 kB)\n",
            "Requirement already satisfied: click in /usr/local/lib/python3.10/dist-packages (from autorom) (8.1.7)\n",
            "Requirement already satisfied: requests in /usr/local/lib/python3.10/dist-packages (from autorom) (2.32.3)\n",
            "Collecting ale-py~=0.8.1 (from shimmy[atari]<1.0,>=0.1.0; extra == \"atari\"->gymnasium[atari])\n",
            "  Downloading ale_py-0.8.1-cp310-cp310-manylinux_2_17_x86_64.manylinux2014_x86_64.whl.metadata (8.1 kB)\n",
            "Requirement already satisfied: charset-normalizer<4,>=2 in /usr/local/lib/python3.10/dist-packages (from requests->autorom) (3.3.2)\n",
            "Requirement already satisfied: idna<4,>=2.5 in /usr/local/lib/python3.10/dist-packages (from requests->autorom) (3.10)\n",
            "Requirement already satisfied: urllib3<3,>=1.21.1 in /usr/local/lib/python3.10/dist-packages (from requests->autorom) (2.2.3)\n",
            "Requirement already satisfied: certifi>=2017.4.17 in /usr/local/lib/python3.10/dist-packages (from requests->autorom) (2024.8.30)\n",
            "Requirement already satisfied: importlib-resources in /usr/local/lib/python3.10/dist-packages (from ale-py~=0.8.1->shimmy[atari]<1.0,>=0.1.0; extra == \"atari\"->gymnasium[atari]) (6.4.5)\n",
            "Downloading gymnasium-0.29.1-py3-none-any.whl (953 kB)\n",
            "\u001b[2K   \u001b[90m━━━━━━━━━━━━━━━━━━━━━━━━━━━━━━━━━━━━━━━━\u001b[0m \u001b[32m953.9/953.9 kB\u001b[0m \u001b[31m10.2 MB/s\u001b[0m eta \u001b[36m0:00:00\u001b[0m\n",
            "\u001b[?25hDownloading AutoROM-0.6.1-py3-none-any.whl (9.4 kB)\n",
            "Downloading Farama_Notifications-0.0.4-py3-none-any.whl (2.5 kB)\n",
            "Downloading Shimmy-0.2.1-py3-none-any.whl (25 kB)\n",
            "Downloading ale_py-0.8.1-cp310-cp310-manylinux_2_17_x86_64.manylinux2014_x86_64.whl (1.7 MB)\n",
            "\u001b[2K   \u001b[90m━━━━━━━━━━━━━━━━━━━━━━━━━━━━━━━━━━━━━━━━\u001b[0m \u001b[32m1.7/1.7 MB\u001b[0m \u001b[31m26.0 MB/s\u001b[0m eta \u001b[36m0:00:00\u001b[0m\n",
            "\u001b[?25hInstalling collected packages: farama-notifications, gymnasium, ale-py, shimmy, autorom\n",
            "Successfully installed ale-py-0.8.1 autorom-0.6.1 farama-notifications-0.0.4 gymnasium-0.29.1 shimmy-0.2.1\n"
          ]
        }
      ]
    },
    {
      "cell_type": "code",
      "source": [
        "!AutoROM --accept-license"
      ],
      "metadata": {
        "id": "Le7dztPUkVz4",
        "colab": {
          "base_uri": "https://localhost:8080/"
        },
        "outputId": "1576b46a-9e41-4210-9955-f86e4ca16b4e"
      },
      "execution_count": 3,
      "outputs": [
        {
          "output_type": "stream",
          "name": "stdout",
          "text": [
            "AutoROM will download the Atari 2600 ROMs.\n",
            "They will be installed to:\n",
            "\t/usr/local/lib/python3.10/dist-packages/AutoROM/roms\n",
            "\n",
            "Existing ROMs will be overwritten.\n",
            "Installed /usr/local/lib/python3.10/dist-packages/AutoROM/roms/adventure.bin\n",
            "Installed /usr/local/lib/python3.10/dist-packages/AutoROM/roms/air_raid.bin\n",
            "Installed /usr/local/lib/python3.10/dist-packages/AutoROM/roms/alien.bin\n",
            "Installed /usr/local/lib/python3.10/dist-packages/AutoROM/roms/amidar.bin\n",
            "Installed /usr/local/lib/python3.10/dist-packages/AutoROM/roms/assault.bin\n",
            "Installed /usr/local/lib/python3.10/dist-packages/AutoROM/roms/asterix.bin\n",
            "Installed /usr/local/lib/python3.10/dist-packages/AutoROM/roms/asteroids.bin\n",
            "Installed /usr/local/lib/python3.10/dist-packages/AutoROM/roms/atlantis.bin\n",
            "Installed /usr/local/lib/python3.10/dist-packages/AutoROM/roms/atlantis2.bin\n",
            "Installed /usr/local/lib/python3.10/dist-packages/AutoROM/roms/backgammon.bin\n",
            "Installed /usr/local/lib/python3.10/dist-packages/AutoROM/roms/bank_heist.bin\n",
            "Installed /usr/local/lib/python3.10/dist-packages/AutoROM/roms/basic_math.bin\n",
            "Installed /usr/local/lib/python3.10/dist-packages/AutoROM/roms/battle_zone.bin\n",
            "Installed /usr/local/lib/python3.10/dist-packages/AutoROM/roms/beam_rider.bin\n",
            "Installed /usr/local/lib/python3.10/dist-packages/AutoROM/roms/berzerk.bin\n",
            "Installed /usr/local/lib/python3.10/dist-packages/AutoROM/roms/blackjack.bin\n",
            "Installed /usr/local/lib/python3.10/dist-packages/AutoROM/roms/bowling.bin\n",
            "Installed /usr/local/lib/python3.10/dist-packages/AutoROM/roms/boxing.bin\n",
            "Installed /usr/local/lib/python3.10/dist-packages/AutoROM/roms/breakout.bin\n",
            "Installed /usr/local/lib/python3.10/dist-packages/AutoROM/roms/carnival.bin\n",
            "Installed /usr/local/lib/python3.10/dist-packages/AutoROM/roms/casino.bin\n",
            "Installed /usr/local/lib/python3.10/dist-packages/AutoROM/roms/centipede.bin\n",
            "Installed /usr/local/lib/python3.10/dist-packages/AutoROM/roms/chopper_command.bin\n",
            "Installed /usr/local/lib/python3.10/dist-packages/AutoROM/roms/combat.bin\n",
            "Installed /usr/local/lib/python3.10/dist-packages/AutoROM/roms/crazy_climber.bin\n",
            "Installed /usr/local/lib/python3.10/dist-packages/AutoROM/roms/crossbow.bin\n",
            "Installed /usr/local/lib/python3.10/dist-packages/AutoROM/roms/darkchambers.bin\n",
            "Installed /usr/local/lib/python3.10/dist-packages/AutoROM/roms/defender.bin\n",
            "Installed /usr/local/lib/python3.10/dist-packages/AutoROM/roms/demon_attack.bin\n",
            "Installed /usr/local/lib/python3.10/dist-packages/AutoROM/roms/donkey_kong.bin\n",
            "Installed /usr/local/lib/python3.10/dist-packages/AutoROM/roms/double_dunk.bin\n",
            "Installed /usr/local/lib/python3.10/dist-packages/AutoROM/roms/earthworld.bin\n",
            "Installed /usr/local/lib/python3.10/dist-packages/AutoROM/roms/elevator_action.bin\n",
            "Installed /usr/local/lib/python3.10/dist-packages/AutoROM/roms/enduro.bin\n",
            "Installed /usr/local/lib/python3.10/dist-packages/AutoROM/roms/entombed.bin\n",
            "Installed /usr/local/lib/python3.10/dist-packages/AutoROM/roms/et.bin\n",
            "Installed /usr/local/lib/python3.10/dist-packages/AutoROM/roms/fishing_derby.bin\n",
            "Installed /usr/local/lib/python3.10/dist-packages/AutoROM/roms/flag_capture.bin\n",
            "Installed /usr/local/lib/python3.10/dist-packages/AutoROM/roms/freeway.bin\n",
            "Installed /usr/local/lib/python3.10/dist-packages/AutoROM/roms/frogger.bin\n",
            "Installed /usr/local/lib/python3.10/dist-packages/AutoROM/roms/frostbite.bin\n",
            "Installed /usr/local/lib/python3.10/dist-packages/AutoROM/roms/galaxian.bin\n",
            "Installed /usr/local/lib/python3.10/dist-packages/AutoROM/roms/gopher.bin\n",
            "Installed /usr/local/lib/python3.10/dist-packages/AutoROM/roms/gravitar.bin\n",
            "Installed /usr/local/lib/python3.10/dist-packages/AutoROM/roms/hangman.bin\n",
            "Installed /usr/local/lib/python3.10/dist-packages/AutoROM/roms/haunted_house.bin\n",
            "Installed /usr/local/lib/python3.10/dist-packages/AutoROM/roms/hero.bin\n",
            "Installed /usr/local/lib/python3.10/dist-packages/AutoROM/roms/human_cannonball.bin\n",
            "Installed /usr/local/lib/python3.10/dist-packages/AutoROM/roms/ice_hockey.bin\n",
            "Installed /usr/local/lib/python3.10/dist-packages/AutoROM/roms/jamesbond.bin\n",
            "Installed /usr/local/lib/python3.10/dist-packages/AutoROM/roms/journey_escape.bin\n",
            "Installed /usr/local/lib/python3.10/dist-packages/AutoROM/roms/joust.bin\n",
            "Installed /usr/local/lib/python3.10/dist-packages/AutoROM/roms/kaboom.bin\n",
            "Installed /usr/local/lib/python3.10/dist-packages/AutoROM/roms/kangaroo.bin\n",
            "Installed /usr/local/lib/python3.10/dist-packages/AutoROM/roms/keystone_kapers.bin\n",
            "Installed /usr/local/lib/python3.10/dist-packages/AutoROM/roms/king_kong.bin\n",
            "Installed /usr/local/lib/python3.10/dist-packages/AutoROM/roms/klax.bin\n",
            "Installed /usr/local/lib/python3.10/dist-packages/AutoROM/roms/koolaid.bin\n",
            "Installed /usr/local/lib/python3.10/dist-packages/AutoROM/roms/krull.bin\n",
            "Installed /usr/local/lib/python3.10/dist-packages/AutoROM/roms/kung_fu_master.bin\n",
            "Installed /usr/local/lib/python3.10/dist-packages/AutoROM/roms/laser_gates.bin\n",
            "Installed /usr/local/lib/python3.10/dist-packages/AutoROM/roms/lost_luggage.bin\n",
            "Installed /usr/local/lib/python3.10/dist-packages/AutoROM/roms/mario_bros.bin\n",
            "Installed /usr/local/lib/python3.10/dist-packages/AutoROM/roms/maze_craze.bin\n",
            "Installed /usr/local/lib/python3.10/dist-packages/AutoROM/roms/miniature_golf.bin\n",
            "Installed /usr/local/lib/python3.10/dist-packages/AutoROM/roms/montezuma_revenge.bin\n",
            "Installed /usr/local/lib/python3.10/dist-packages/AutoROM/roms/mr_do.bin\n",
            "Installed /usr/local/lib/python3.10/dist-packages/AutoROM/roms/ms_pacman.bin\n",
            "Installed /usr/local/lib/python3.10/dist-packages/AutoROM/roms/name_this_game.bin\n",
            "Installed /usr/local/lib/python3.10/dist-packages/AutoROM/roms/othello.bin\n",
            "Installed /usr/local/lib/python3.10/dist-packages/AutoROM/roms/pacman.bin\n",
            "Installed /usr/local/lib/python3.10/dist-packages/AutoROM/roms/phoenix.bin\n",
            "Installed /usr/local/lib/python3.10/dist-packages/AutoROM/roms/pitfall.bin\n",
            "Installed /usr/local/lib/python3.10/dist-packages/AutoROM/roms/pitfall2.bin\n",
            "Installed /usr/local/lib/python3.10/dist-packages/AutoROM/roms/pong.bin\n",
            "Installed /usr/local/lib/python3.10/dist-packages/AutoROM/roms/pooyan.bin\n",
            "Installed /usr/local/lib/python3.10/dist-packages/AutoROM/roms/private_eye.bin\n",
            "Installed /usr/local/lib/python3.10/dist-packages/AutoROM/roms/qbert.bin\n",
            "Installed /usr/local/lib/python3.10/dist-packages/AutoROM/roms/riverraid.bin\n",
            "Installed /usr/local/lib/python3.10/dist-packages/AutoROM/roms/road_runner.bin\n",
            "Installed /usr/local/lib/python3.10/dist-packages/AutoROM/roms/robotank.bin\n",
            "Installed /usr/local/lib/python3.10/dist-packages/AutoROM/roms/seaquest.bin\n",
            "Installed /usr/local/lib/python3.10/dist-packages/AutoROM/roms/sir_lancelot.bin\n",
            "Installed /usr/local/lib/python3.10/dist-packages/AutoROM/roms/skiing.bin\n",
            "Installed /usr/local/lib/python3.10/dist-packages/AutoROM/roms/solaris.bin\n",
            "Installed /usr/local/lib/python3.10/dist-packages/AutoROM/roms/space_invaders.bin\n",
            "Installed /usr/local/lib/python3.10/dist-packages/AutoROM/roms/space_war.bin\n",
            "Installed /usr/local/lib/python3.10/dist-packages/AutoROM/roms/star_gunner.bin\n",
            "Installed /usr/local/lib/python3.10/dist-packages/AutoROM/roms/superman.bin\n",
            "Installed /usr/local/lib/python3.10/dist-packages/AutoROM/roms/surround.bin\n",
            "Installed /usr/local/lib/python3.10/dist-packages/AutoROM/roms/tennis.bin\n",
            "Installed /usr/local/lib/python3.10/dist-packages/AutoROM/roms/tetris.bin\n",
            "Installed /usr/local/lib/python3.10/dist-packages/AutoROM/roms/tic_tac_toe_3d.bin\n",
            "Installed /usr/local/lib/python3.10/dist-packages/AutoROM/roms/time_pilot.bin\n",
            "Installed /usr/local/lib/python3.10/dist-packages/AutoROM/roms/trondead.bin\n",
            "Installed /usr/local/lib/python3.10/dist-packages/AutoROM/roms/turmoil.bin\n",
            "Installed /usr/local/lib/python3.10/dist-packages/AutoROM/roms/tutankham.bin\n",
            "Installed /usr/local/lib/python3.10/dist-packages/AutoROM/roms/up_n_down.bin\n",
            "Installed /usr/local/lib/python3.10/dist-packages/AutoROM/roms/venture.bin\n",
            "Installed /usr/local/lib/python3.10/dist-packages/AutoROM/roms/video_checkers.bin\n",
            "Installed /usr/local/lib/python3.10/dist-packages/AutoROM/roms/video_chess.bin\n",
            "Installed /usr/local/lib/python3.10/dist-packages/AutoROM/roms/video_cube.bin\n",
            "Installed /usr/local/lib/python3.10/dist-packages/AutoROM/roms/video_pinball.bin\n",
            "Installed /usr/local/lib/python3.10/dist-packages/AutoROM/roms/warlords.bin\n",
            "Installed /usr/local/lib/python3.10/dist-packages/AutoROM/roms/wizard_of_wor.bin\n",
            "Installed /usr/local/lib/python3.10/dist-packages/AutoROM/roms/word_zapper.bin\n",
            "Installed /usr/local/lib/python3.10/dist-packages/AutoROM/roms/yars_revenge.bin\n",
            "Installed /usr/local/lib/python3.10/dist-packages/AutoROM/roms/zaxxon.bin\n",
            "Done!\n"
          ]
        }
      ]
    },
    {
      "cell_type": "code",
      "source": [
        "!pip install stable-baselines3"
      ],
      "metadata": {
        "id": "NmOqw4UAmAoV",
        "colab": {
          "base_uri": "https://localhost:8080/"
        },
        "outputId": "441196ab-4b51-409b-e373-bc1fa213f949"
      },
      "execution_count": 4,
      "outputs": [
        {
          "output_type": "stream",
          "name": "stdout",
          "text": [
            "Collecting stable-baselines3\n",
            "  Downloading stable_baselines3-2.3.2-py3-none-any.whl.metadata (5.1 kB)\n",
            "Requirement already satisfied: gymnasium<0.30,>=0.28.1 in /usr/local/lib/python3.10/dist-packages (from stable-baselines3) (0.29.1)\n",
            "Requirement already satisfied: numpy>=1.20 in /usr/local/lib/python3.10/dist-packages (from stable-baselines3) (1.26.4)\n",
            "Requirement already satisfied: torch>=1.13 in /usr/local/lib/python3.10/dist-packages (from stable-baselines3) (2.4.1+cu121)\n",
            "Requirement already satisfied: cloudpickle in /usr/local/lib/python3.10/dist-packages (from stable-baselines3) (2.2.1)\n",
            "Requirement already satisfied: pandas in /usr/local/lib/python3.10/dist-packages (from stable-baselines3) (2.1.4)\n",
            "Requirement already satisfied: matplotlib in /usr/local/lib/python3.10/dist-packages (from stable-baselines3) (3.7.1)\n",
            "Requirement already satisfied: typing-extensions>=4.3.0 in /usr/local/lib/python3.10/dist-packages (from gymnasium<0.30,>=0.28.1->stable-baselines3) (4.12.2)\n",
            "Requirement already satisfied: farama-notifications>=0.0.1 in /usr/local/lib/python3.10/dist-packages (from gymnasium<0.30,>=0.28.1->stable-baselines3) (0.0.4)\n",
            "Requirement already satisfied: filelock in /usr/local/lib/python3.10/dist-packages (from torch>=1.13->stable-baselines3) (3.16.1)\n",
            "Requirement already satisfied: sympy in /usr/local/lib/python3.10/dist-packages (from torch>=1.13->stable-baselines3) (1.13.3)\n",
            "Requirement already satisfied: networkx in /usr/local/lib/python3.10/dist-packages (from torch>=1.13->stable-baselines3) (3.3)\n",
            "Requirement already satisfied: jinja2 in /usr/local/lib/python3.10/dist-packages (from torch>=1.13->stable-baselines3) (3.1.4)\n",
            "Requirement already satisfied: fsspec in /usr/local/lib/python3.10/dist-packages (from torch>=1.13->stable-baselines3) (2024.6.1)\n",
            "Requirement already satisfied: contourpy>=1.0.1 in /usr/local/lib/python3.10/dist-packages (from matplotlib->stable-baselines3) (1.3.0)\n",
            "Requirement already satisfied: cycler>=0.10 in /usr/local/lib/python3.10/dist-packages (from matplotlib->stable-baselines3) (0.12.1)\n",
            "Requirement already satisfied: fonttools>=4.22.0 in /usr/local/lib/python3.10/dist-packages (from matplotlib->stable-baselines3) (4.53.1)\n",
            "Requirement already satisfied: kiwisolver>=1.0.1 in /usr/local/lib/python3.10/dist-packages (from matplotlib->stable-baselines3) (1.4.7)\n",
            "Requirement already satisfied: packaging>=20.0 in /usr/local/lib/python3.10/dist-packages (from matplotlib->stable-baselines3) (24.1)\n",
            "Requirement already satisfied: pillow>=6.2.0 in /usr/local/lib/python3.10/dist-packages (from matplotlib->stable-baselines3) (10.4.0)\n",
            "Requirement already satisfied: pyparsing>=2.3.1 in /usr/local/lib/python3.10/dist-packages (from matplotlib->stable-baselines3) (3.1.4)\n",
            "Requirement already satisfied: python-dateutil>=2.7 in /usr/local/lib/python3.10/dist-packages (from matplotlib->stable-baselines3) (2.8.2)\n",
            "Requirement already satisfied: pytz>=2020.1 in /usr/local/lib/python3.10/dist-packages (from pandas->stable-baselines3) (2024.2)\n",
            "Requirement already satisfied: tzdata>=2022.1 in /usr/local/lib/python3.10/dist-packages (from pandas->stable-baselines3) (2024.1)\n",
            "Requirement already satisfied: six>=1.5 in /usr/local/lib/python3.10/dist-packages (from python-dateutil>=2.7->matplotlib->stable-baselines3) (1.16.0)\n",
            "Requirement already satisfied: MarkupSafe>=2.0 in /usr/local/lib/python3.10/dist-packages (from jinja2->torch>=1.13->stable-baselines3) (2.1.5)\n",
            "Requirement already satisfied: mpmath<1.4,>=1.1.0 in /usr/local/lib/python3.10/dist-packages (from sympy->torch>=1.13->stable-baselines3) (1.3.0)\n",
            "Downloading stable_baselines3-2.3.2-py3-none-any.whl (182 kB)\n",
            "\u001b[2K   \u001b[90m━━━━━━━━━━━━━━━━━━━━━━━━━━━━━━━━━━━━━━━━\u001b[0m \u001b[32m182.3/182.3 kB\u001b[0m \u001b[31m5.2 MB/s\u001b[0m eta \u001b[36m0:00:00\u001b[0m\n",
            "\u001b[?25hInstalling collected packages: stable-baselines3\n",
            "Successfully installed stable-baselines3-2.3.2\n"
          ]
        }
      ]
    },
    {
      "cell_type": "code",
      "source": [
        "import platform\n",
        "import torch\n",
        "import numpy\n",
        "import stable_baselines3\n",
        "from stable_baselines3 import PPO\n",
        "from stable_baselines3.common.env_util import make_atari_env\n",
        "from stable_baselines3.common.vec_env import VecFrameStack\n",
        "from stable_baselines3.common.evaluation import evaluate_policy\n",
        "from stable_baselines3.common.callbacks import EvalCallback\n",
        "from stable_baselines3.common.env_util import make_vec_env\n",
        "from stable_baselines3.common.vec_env import VecVideoRecorder\n",
        "from stable_baselines3.common.vec_env import VecTransposeImage\n",
        "import matplotlib.pyplot\n",
        "import matplotlib\n",
        "import os\n",
        "import gymnasium\n",
        "from importlib.metadata import version\n",
        "import time\n",
        "import google.colab.drive"
      ],
      "metadata": {
        "id": "o89JlEiexh1-",
        "colab": {
          "base_uri": "https://localhost:8080/"
        },
        "outputId": "12947f9d-2d34-4cad-eb9f-99f0fe63bb5b"
      },
      "execution_count": 5,
      "outputs": [
        {
          "output_type": "stream",
          "name": "stderr",
          "text": [
            "/usr/local/lib/python3.10/dist-packages/tensorflow/lite/python/util.py:55: DeprecationWarning: jax.xla_computation is deprecated. Please use the AOT APIs; see https://jax.readthedocs.io/en/latest/aot.html. For example, replace xla_computation(f)(*xs) with jit(f).lower(*xs).compiler_ir('hlo'). See CHANGELOG.md for 0.4.30 for more examples.\n",
            "  from jax import xla_computation as _xla_computation\n"
          ]
        }
      ]
    },
    {
      "cell_type": "code",
      "source": [
        "print(f\"Python Version: {platform.python_version()}\")\n",
        "print(f\"Torch Version: {version('torch')}\")\n",
        "print(f\"Is Cuda Available: {torch.cuda.is_available()}\")\n",
        "print(f\"Cuda Version: {torch.version.cuda}\")\n",
        "print(f\"Gymnasium Version: {version('gymnasium')}\")\n",
        "print(f\"Numpy Version: {version('numpy')}\")\n",
        "print(f\"Stable Baselines3 Version: {version('stable_baselines3')}\")"
      ],
      "metadata": {
        "id": "KRrJSPuDiDN4",
        "colab": {
          "base_uri": "https://localhost:8080/"
        },
        "outputId": "1f7606d7-d8d1-48e4-c2df-961e66bb97ae"
      },
      "execution_count": 6,
      "outputs": [
        {
          "output_type": "stream",
          "name": "stderr",
          "text": [
            "/usr/local/lib/python3.10/dist-packages/ipykernel/ipkernel.py:283: DeprecationWarning: `should_run_async` will not call `transform_cell` automatically in the future. Please pass the result to `transformed_cell` argument and any exception that happen during thetransform in `preprocessing_exc_tuple` in IPython 7.17 and above.\n",
            "  and should_run_async(code)\n"
          ]
        },
        {
          "output_type": "stream",
          "name": "stdout",
          "text": [
            "Python Version: 3.10.12\n",
            "Torch Version: 2.4.1+cu121\n",
            "Is Cuda Available: True\n",
            "Cuda Version: 12.1\n",
            "Gymnasium Version: 0.29.1\n",
            "Numpy Version: 1.26.4\n",
            "Stable Baselines3 Version: 2.3.2\n"
          ]
        }
      ]
    },
    {
      "cell_type": "code",
      "source": [
        "gdrive_path = \"/content/gdrive\"\n",
        "google.colab.drive.mount(gdrive_path, force_remount=True)"
      ],
      "metadata": {
        "colab": {
          "base_uri": "https://localhost:8080/"
        },
        "id": "8WkaauEBoH_c",
        "outputId": "d758d8fc-e6b2-4e29-ad48-155a30d29008"
      },
      "execution_count": 7,
      "outputs": [
        {
          "output_type": "stream",
          "name": "stdout",
          "text": [
            "Mounted at /content/gdrive\n"
          ]
        }
      ]
    },
    {
      "cell_type": "code",
      "source": [
        "rl_type = \"PPO\"\n",
        "env_str = \"ALE/Tennis-v5\"\n",
        "log_dir = \"{}/MyDrive/Finding Theta/logs/{}/{}\".format(gdrive_path,\n",
        "                                                       env_str,\n",
        "                                                       rl_type)"
      ],
      "metadata": {
        "id": "aR7w3BqcFiIO"
      },
      "execution_count": 8,
      "outputs": []
    },
    {
      "cell_type": "code",
      "source": [
        "# https://danieltakeshi.github.io/2016/11/25/frame-skipping-and-preprocessing-for-deep-q-networks-on-atari-2600-games/\n",
        "# https://stable-baselines3.readthedocs.io/en/master/common/atari_wrappers.html\n",
        "env = make_atari_env(env_str, n_envs=1, seed=0)\n",
        "print(\"Observation Space Size: \", env.observation_space.shape)\n",
        "print('Actions Space: ', env.action_space)\n",
        "env.close()"
      ],
      "metadata": {
        "colab": {
          "base_uri": "https://localhost:8080/"
        },
        "id": "T78JvLBVdmQO",
        "outputId": "fbe6d697-ae08-45f2-f2eb-cfa9802ca6c1"
      },
      "execution_count": 9,
      "outputs": [
        {
          "output_type": "stream",
          "name": "stdout",
          "text": [
            "Observation Space Size:  (84, 84, 1)\n",
            "Actions Space:  Discrete(18)\n"
          ]
        }
      ]
    },
    {
      "cell_type": "code",
      "source": [
        "env = gymnasium.make(env_str)\n",
        "print(\"Observation Space Size: \", env.observation_space.shape)\n",
        "print('Actions Space: ', env.action_space)\n",
        "env.close()"
      ],
      "metadata": {
        "colab": {
          "base_uri": "https://localhost:8080/"
        },
        "id": "5vCHAlsgg3lu",
        "outputId": "9da115d5-386a-450a-cbb3-2415367d1b49"
      },
      "execution_count": 10,
      "outputs": [
        {
          "output_type": "stream",
          "name": "stdout",
          "text": [
            "Observation Space Size:  (210, 160, 3)\n",
            "Actions Space:  Discrete(18)\n"
          ]
        }
      ]
    },
    {
      "cell_type": "code",
      "execution_count": null,
      "metadata": {
        "id": "SvPXWTCHiO69",
        "colab": {
          "base_uri": "https://localhost:8080/",
          "height": 34
        },
        "outputId": "67695d6b-437c-4248-ca23-ef4676adf17a"
      },
      "outputs": [
        {
          "output_type": "display_data",
          "data": {
            "text/plain": [
              "\u001b[35m  78%\u001b[0m \u001b[38;2;249;38;114m━━━━━━━━━━━━━━━━━━━━━━━━━━━━━━━━━━━━━━━━━\u001b[0m\u001b[38;2;249;38;114m╸\u001b[0m\u001b[38;5;237m━━━━━━━━━━━━\u001b[0m \u001b[32m6,201,340/8,000,000 \u001b[0m [ \u001b[33m17:54:12\u001b[0m < \u001b[36m2:35:45\u001b[0m , \u001b[31m192 it/s\u001b[0m ]\n"
            ],
            "text/html": [
              "<pre style=\"white-space:pre;overflow-x:auto;line-height:normal;font-family:Menlo,'DejaVu Sans Mono',consolas,'Courier New',monospace\"><span style=\"color: #800080; text-decoration-color: #800080\">  78%</span> <span style=\"color: #f92672; text-decoration-color: #f92672\">━━━━━━━━━━━━━━━━━━━━━━━━━━━━━━━━━━━━━━━━━╸</span><span style=\"color: #3a3a3a; text-decoration-color: #3a3a3a\">━━━━━━━━━━━━</span> <span style=\"color: #008000; text-decoration-color: #008000\">6,201,340/8,000,000 </span> [ <span style=\"color: #808000; text-decoration-color: #808000\">17:54:12</span> &lt; <span style=\"color: #008080; text-decoration-color: #008080\">2:35:45</span> , <span style=\"color: #800000; text-decoration-color: #800000\">192 it/s</span> ]\n",
              "</pre>\n"
            ]
          },
          "metadata": {}
        }
      ],
      "source": [
        "# Create the Training Atari Tennis environment with appropriate wrappers\n",
        "env = make_atari_env(env_str, n_envs=8, seed=0)\n",
        "env = VecTransposeImage(env)\n",
        "env = VecFrameStack(env, n_stack=4)\n",
        "\n",
        "# Create the Evaluation Atari Tennis environment with appropriate wrappers\n",
        "env_val_wrap_args = {\"frame_skip\": 0, \"noop_max\": 30}\n",
        "env_val = make_atari_env(env_str,\n",
        "                         n_envs=1,\n",
        "                         seed=1,\n",
        "                         wrapper_kwargs=env_val_wrap_args)\n",
        "env_val = VecTransposeImage(env_val)\n",
        "env_val = VecFrameStack(env_val, n_stack=4)\n",
        "\n",
        "# Create Evaluation Callback\n",
        "# eval_freq - can cause learning instability if set to low\n",
        "eval_callback = EvalCallback(env_val,\n",
        "                             best_model_save_path=log_dir,\n",
        "                             log_path=log_dir,\n",
        "                             eval_freq=10_000,\n",
        "                             render=False,\n",
        "                             deterministic=True,\n",
        "                             n_eval_episodes=5)\n",
        "\n",
        "# Initialize PPO\n",
        "# ent_coef - encourages exploration of other actins\n",
        "model = PPO(\"CnnPolicy\",\n",
        "            env,\n",
        "            verbose=0,\n",
        "            batch_size=512,\n",
        "            learning_rate=0.00005,\n",
        "            ent_coef=0.15,\n",
        "            tensorboard_log=os.path.join(log_dir, \"tensorboard\"))\n",
        "\n",
        "# Train the model\n",
        "model.learn(total_timesteps=8_000_000,\n",
        "            progress_bar=True,\n",
        "            callback=eval_callback)\n",
        "\n",
        "# Save the trained model\n",
        "model.save(os.path.join(log_dir, \"ppo_tennis\"))\n",
        "\n",
        "env.close()\n",
        "env_val.close()"
      ]
    },
    {
      "cell_type": "code",
      "source": [
        "# Print Model\n",
        "print(model.policy)"
      ],
      "metadata": {
        "id": "2zN6WKnxGRSa"
      },
      "execution_count": null,
      "outputs": []
    },
    {
      "cell_type": "code",
      "source": [
        "# Create the Evaluation Atari Tennis environment with appropriate wrappers\n",
        "env_val_wrap_args = {\"frame_skip\": 0, \"noop_max\": 30}\n",
        "env_val = make_atari_env(env_str,\n",
        "                         n_envs=1,\n",
        "                         seed=1,\n",
        "                         wrapper_kwargs=env_val_wrap_args)\n",
        "env_val = VecTransposeImage(env_val)\n",
        "env_val = VecFrameStack(env_val, n_stack=4)\n",
        "\n",
        "# Load the best model\n",
        "best_model_path = os.path.join(log_dir, \"best_model.zip\")\n",
        "best_model = PPO.load(best_model_path, env=env_val)\n",
        "\n",
        "mean_reward, std_reward = evaluate_policy(best_model, env_val, n_eval_episodes=5)\n",
        "print(f\"Best Model - Mean reward: {mean_reward:.2f} +/- {std_reward:.2f}\")\n",
        "\n",
        "# Record video of the best model playing Atari's Tennis\n",
        "rec_val = VecVideoRecorder(env_val,\n",
        "                           os.path.join(log_dir, \"videos\"),\n",
        "                           video_length=5000,\n",
        "                           record_video_trigger=lambda x: x == 0,\n",
        "                           name_prefix=\"best_model_atari_tennis_ppo\")\n",
        "\n",
        "obs = rec_val.reset()\n",
        "for _ in range(5000):\n",
        "    action, _states = best_model.predict(obs)\n",
        "    obs, rewards, dones, info = rec_val.step(action)\n",
        "    rec_val.render()\n",
        "    if dones:\n",
        "      break\n",
        "\n",
        "env_val.close()\n",
        "rec_val.close()"
      ],
      "metadata": {
        "id": "OqwJT0bhcOu0"
      },
      "execution_count": null,
      "outputs": []
    },
    {
      "cell_type": "code",
      "source": [
        "# Load the evaluations.npz file\n",
        "data = numpy.load(os.path.join(log_dir, \"evaluations.npz\"))\n",
        "\n",
        "# Extract the relevant data\n",
        "timesteps = data['timesteps']\n",
        "results = data['results']\n",
        "\n",
        "# Calculate the mean and standard deviation of the results\n",
        "mean_results = numpy.mean(results, axis=1)\n",
        "std_results = numpy.std(results, axis=1)\n",
        "\n",
        "# Plot the results\n",
        "matplotlib.pyplot.figure()\n",
        "matplotlib.pyplot.plot(timesteps, mean_results)\n",
        "matplotlib.pyplot.fill_between(timesteps,\n",
        "                               mean_results - std_results,\n",
        "                               mean_results + std_results,\n",
        "                               alpha=0.3)\n",
        "\n",
        "matplotlib.pyplot.xlabel('Timesteps')\n",
        "matplotlib.pyplot.ylabel('Mean Reward')\n",
        "matplotlib.pyplot.title(f\"{rl_type} Performance on {env_str}\")\n",
        "matplotlib.pyplot.show()"
      ],
      "metadata": {
        "id": "Xisgp9SfcONO",
        "colab": {
          "base_uri": "https://localhost:8080/",
          "height": 472
        },
        "outputId": "2df1d319-eed2-40e5-d5b7-23d622d470db"
      },
      "execution_count": 9,
      "outputs": [
        {
          "output_type": "display_data",
          "data": {
            "text/plain": [
              "<Figure size 640x480 with 1 Axes>"
            ],
            "image/png": "[encoded data removed]"
          },
          "metadata": {}
        }
      ]
    },
    {
      "cell_type": "code",
      "source": [],
      "metadata": {
        "id": "If3saIYUlM7h"
      },
      "execution_count": null,
      "outputs": []
    }
  ]
}