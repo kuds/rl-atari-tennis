{
  "nbformat": 4,
  "nbformat_minor": 0,
  "metadata": {
    "colab": {
      "provenance": [],
      "authorship_tag": "ABX9TyNRO11RSy4QyTNy7RJJplfE",
      "include_colab_link": true
    },
    "kernelspec": {
      "name": "python3",
      "display_name": "Python 3"
    },
    "language_info": {
      "name": "python"
    }
  },
  "cells": [
    {
      "cell_type": "markdown",
      "metadata": {
        "id": "view-in-github",
        "colab_type": "text"
      },
      "source": [
        "<a href=\"https://colab.research.google.com/github/kuds/rl-unity-soccer/blob/main/%5BSoccerTwo%5D%20Training%20Agent%20Notebook.ipynb\" target=\"_parent\"><img src=\"https://colab.research.google.com/assets/colab-badge.svg\" alt=\"Open In Colab\"/></a>"
      ]
    },
    {
      "cell_type": "code",
      "source": [
        "!wget \"https://download.unity3d.com/download_unity/0e25a174756c/UnitySetup-2023.2.20f1\" -O UnitySetup\n",
        "!chmod +x UnitySetup"
      ],
      "metadata": {
        "colab": {
          "base_uri": "https://localhost:8080/"
        },
        "id": "uodxrdtTd7Ic",
        "outputId": "0a030ab5-3563-4162-b251-43d58af8f545"
      },
      "execution_count": 1,
      "outputs": [
        {
          "output_type": "stream",
          "name": "stdout",
          "text": [
            "--2024-09-03 01:47:35--  https://download.unity3d.com/download_unity/0e25a174756c/UnitySetup-2023.2.20f1\n",
            "Resolving download.unity3d.com (download.unity3d.com)... 23.46.216.85, 23.46.216.71\n",
            "Connecting to download.unity3d.com (download.unity3d.com)|23.46.216.85|:443... connected.\n",
            "HTTP request sent, awaiting response... 200 OK\n",
            "Length: 762560 (745K) [application/octet-stream]\n",
            "Saving to: ‘UnitySetup’\n",
            "\n",
            "UnitySetup          100%[===================>] 744.69K  --.-KB/s    in 0.1s    \n",
            "\n",
            "2024-09-03 01:47:35 (5.39 MB/s) - ‘UnitySetup’ saved [762560/762560]\n",
            "\n"
          ]
        }
      ]
    },
    {
      "cell_type": "code",
      "source": [
        "!./UnitySetup --help"
      ],
      "metadata": {
        "colab": {
          "base_uri": "https://localhost:8080/"
        },
        "id": "aWASDW4Gpj5M",
        "outputId": "644ae25b-1766-49a1-a75a-f046013021aa"
      },
      "execution_count": 12,
      "outputs": [
        {
          "output_type": "stream",
          "name": "stdout",
          "text": [
            "Usage:\n",
            "  UnitySetup [OPTION…]\n",
            "\n",
            "Help Options:\n",
            "  -h, --help                           Show help options\n",
            "\n",
            "Application Options:\n",
            "  -i, --inifile=FILE                   Use local ini file FILE\n",
            "  -u, --unattended                     Perform unattended install\n",
            "  -L, --list-components                List available components to install\n",
            "  -l, --install-location=LOCATION      Use install location LOCATION in unattended mode\n",
            "  -d, --download-location=LOCATION     Use download location LOCATION in unattended mode\n",
            "  -c, --components=COMPONENTS          Install comma separated list of components\n",
            "  --save-component-list=FILE           Save component list to FILE\n",
            "  --use-component-list=FILE            Use component list from FILE\n",
            "  -v, --verbose                        Print verbose output\n",
            "\n"
          ]
        }
      ]
    },
    {
      "cell_type": "code",
      "source": [
        "!yes Y | ./UnitySetup --unattended --components=\"Unity\" --install-location=\"/opt\" --no-graphics"
      ],
      "metadata": {
        "colab": {
          "base_uri": "https://localhost:8080/"
        },
        "id": "GCgYQIQYdSrB",
        "outputId": "57192fe0-f33e-4356-c47e-74ea079e8bde"
      },
      "execution_count": 13,
      "outputs": [
        {
          "output_type": "stream",
          "name": "stdout",
          "text": [
            "./UnitySetup: Unknown option --no-graphics\n"
          ]
        }
      ]
    },
    {
      "cell_type": "code",
      "source": [
        "# Clone the repository\n",
        "!git clone https://github.com/Unity-Technologies/ml-agents"
      ],
      "metadata": {
        "colab": {
          "base_uri": "https://localhost:8080/"
        },
        "id": "NKUSTqnwgFnU",
        "outputId": "6dbd4c29-9e40-4a2a-dcb7-e2cf2a82cb70"
      },
      "execution_count": 1,
      "outputs": [
        {
          "output_type": "stream",
          "name": "stdout",
          "text": [
            "fatal: destination path 'ml-agents' already exists and is not an empty directory.\n"
          ]
        }
      ]
    },
    {
      "cell_type": "code",
      "source": [
        "# Go inside the repository and install the package\n",
        "!pip3 install ./ml-agents/ml-agents-envs"
      ],
      "metadata": {
        "colab": {
          "base_uri": "https://localhost:8080/"
        },
        "id": "QoYG2MG6nioS",
        "outputId": "59537453-3f5f-4d43-8b1e-36c139dc4c46"
      },
      "execution_count": 2,
      "outputs": [
        {
          "output_type": "stream",
          "name": "stdout",
          "text": [
            "Processing ./ml-agents/ml-agents-envs\n",
            "  Preparing metadata (setup.py) ... \u001b[?25l\u001b[?25hdone\n",
            "Requirement already satisfied: cloudpickle in /usr/local/lib/python3.10/dist-packages (from mlagents_envs==1.1.0.dev0) (2.2.1)\n",
            "Requirement already satisfied: grpcio<=1.48.2,>=1.11.0 in /usr/local/lib/python3.10/dist-packages (from mlagents_envs==1.1.0.dev0) (1.48.2)\n",
            "Requirement already satisfied: Pillow>=4.2.1 in /usr/local/lib/python3.10/dist-packages (from mlagents_envs==1.1.0.dev0) (9.4.0)\n",
            "Requirement already satisfied: protobuf<3.21,>=3.6 in /usr/local/lib/python3.10/dist-packages (from mlagents_envs==1.1.0.dev0) (3.20.3)\n",
            "Requirement already satisfied: pyyaml>=3.1.0 in /usr/local/lib/python3.10/dist-packages (from mlagents_envs==1.1.0.dev0) (6.0.2)\n",
            "Requirement already satisfied: gym>=0.21.0 in /usr/local/lib/python3.10/dist-packages (from mlagents_envs==1.1.0.dev0) (0.25.2)\n",
            "Requirement already satisfied: pettingzoo==1.15.0 in /usr/local/lib/python3.10/dist-packages (from mlagents_envs==1.1.0.dev0) (1.15.0)\n",
            "Requirement already satisfied: numpy<1.24.0,>=1.23.5 in /usr/local/lib/python3.10/dist-packages (from mlagents_envs==1.1.0.dev0) (1.23.5)\n",
            "Requirement already satisfied: filelock>=3.4.0 in /usr/local/lib/python3.10/dist-packages (from mlagents_envs==1.1.0.dev0) (3.15.4)\n",
            "Requirement already satisfied: six>=1.5.2 in /usr/local/lib/python3.10/dist-packages (from grpcio<=1.48.2,>=1.11.0->mlagents_envs==1.1.0.dev0) (1.16.0)\n",
            "Requirement already satisfied: gym-notices>=0.0.4 in /usr/local/lib/python3.10/dist-packages (from gym>=0.21.0->mlagents_envs==1.1.0.dev0) (0.0.8)\n",
            "Building wheels for collected packages: mlagents_envs\n",
            "  Building wheel for mlagents_envs (setup.py) ... \u001b[?25l\u001b[?25hdone\n",
            "  Created wheel for mlagents_envs: filename=mlagents_envs-1.1.0.dev0-py3-none-any.whl size=107881 sha256=b221d7818c90529364110115701f86ca9372087b828aefb9163b1bc5fe9f546d\n",
            "  Stored in directory: /root/.cache/pip/wheels/06/a4/44/559ecb18c6173396ce39acd3f9593bfb562b00fa707a216311\n",
            "Successfully built mlagents_envs\n",
            "Installing collected packages: mlagents_envs\n",
            "  Attempting uninstall: mlagents_envs\n",
            "    Found existing installation: mlagents_envs 1.1.0.dev0\n",
            "    Uninstalling mlagents_envs-1.1.0.dev0:\n",
            "      Successfully uninstalled mlagents_envs-1.1.0.dev0\n",
            "Successfully installed mlagents_envs-1.1.0.dev0\n"
          ]
        }
      ]
    },
    {
      "cell_type": "code",
      "source": [
        "# Go inside the repository and install the package\n",
        "!pip3 install ./ml-agents/ml-agents"
      ],
      "metadata": {
        "colab": {
          "base_uri": "https://localhost:8080/"
        },
        "id": "brIPsa0Enjk9",
        "outputId": "81bcb5e8-6a6b-40d1-9008-843d9ff22e88"
      },
      "execution_count": 3,
      "outputs": [
        {
          "output_type": "stream",
          "name": "stdout",
          "text": [
            "Processing ./ml-agents/ml-agents\n",
            "  Preparing metadata (setup.py) ... \u001b[?25l\u001b[?25hdone\n",
            "Requirement already satisfied: grpcio<=1.48.2,>=1.11.0 in /usr/local/lib/python3.10/dist-packages (from mlagents==1.1.0.dev0) (1.48.2)\n",
            "Requirement already satisfied: h5py>=2.9.0 in /usr/local/lib/python3.10/dist-packages (from mlagents==1.1.0.dev0) (3.11.0)\n",
            "Requirement already satisfied: mlagents_envs==1.1.0.dev0 in /usr/local/lib/python3.10/dist-packages (from mlagents==1.1.0.dev0) (1.1.0.dev0)\n",
            "Requirement already satisfied: numpy<1.24.0,>=1.23.5 in /usr/local/lib/python3.10/dist-packages (from mlagents==1.1.0.dev0) (1.23.5)\n",
            "Requirement already satisfied: Pillow>=4.2.1 in /usr/local/lib/python3.10/dist-packages (from mlagents==1.1.0.dev0) (9.4.0)\n",
            "Requirement already satisfied: protobuf<3.21,>=3.6 in /usr/local/lib/python3.10/dist-packages (from mlagents==1.1.0.dev0) (3.20.3)\n",
            "Requirement already satisfied: pyyaml>=3.1.0 in /usr/local/lib/python3.10/dist-packages (from mlagents==1.1.0.dev0) (6.0.2)\n",
            "Requirement already satisfied: torch>=2.1.1 in /usr/local/lib/python3.10/dist-packages (from mlagents==1.1.0.dev0) (2.4.0+cu121)\n",
            "Requirement already satisfied: tensorboard>=2.14 in /usr/local/lib/python3.10/dist-packages (from mlagents==1.1.0.dev0) (2.17.0)\n",
            "Requirement already satisfied: six>=1.16 in /usr/local/lib/python3.10/dist-packages (from mlagents==1.1.0.dev0) (1.16.0)\n",
            "Requirement already satisfied: attrs>=19.3.0 in /usr/local/lib/python3.10/dist-packages (from mlagents==1.1.0.dev0) (24.2.0)\n",
            "Requirement already satisfied: huggingface_hub>=0.14 in /usr/local/lib/python3.10/dist-packages (from mlagents==1.1.0.dev0) (0.23.5)\n",
            "Requirement already satisfied: onnx==1.15.0 in /usr/local/lib/python3.10/dist-packages (from mlagents==1.1.0.dev0) (1.15.0)\n",
            "Requirement already satisfied: cattrs<1.7,>=1.1.0 in /usr/local/lib/python3.10/dist-packages (from mlagents==1.1.0.dev0) (1.5.0)\n",
            "Requirement already satisfied: cloudpickle in /usr/local/lib/python3.10/dist-packages (from mlagents_envs==1.1.0.dev0->mlagents==1.1.0.dev0) (2.2.1)\n",
            "Requirement already satisfied: gym>=0.21.0 in /usr/local/lib/python3.10/dist-packages (from mlagents_envs==1.1.0.dev0->mlagents==1.1.0.dev0) (0.25.2)\n",
            "Requirement already satisfied: pettingzoo==1.15.0 in /usr/local/lib/python3.10/dist-packages (from mlagents_envs==1.1.0.dev0->mlagents==1.1.0.dev0) (1.15.0)\n",
            "Requirement already satisfied: filelock>=3.4.0 in /usr/local/lib/python3.10/dist-packages (from mlagents_envs==1.1.0.dev0->mlagents==1.1.0.dev0) (3.15.4)\n",
            "Requirement already satisfied: fsspec>=2023.5.0 in /usr/local/lib/python3.10/dist-packages (from huggingface_hub>=0.14->mlagents==1.1.0.dev0) (2024.6.1)\n",
            "Requirement already satisfied: packaging>=20.9 in /usr/local/lib/python3.10/dist-packages (from huggingface_hub>=0.14->mlagents==1.1.0.dev0) (24.1)\n",
            "Requirement already satisfied: requests in /usr/local/lib/python3.10/dist-packages (from huggingface_hub>=0.14->mlagents==1.1.0.dev0) (2.32.3)\n",
            "Requirement already satisfied: tqdm>=4.42.1 in /usr/local/lib/python3.10/dist-packages (from huggingface_hub>=0.14->mlagents==1.1.0.dev0) (4.66.5)\n",
            "Requirement already satisfied: typing-extensions>=3.7.4.3 in /usr/local/lib/python3.10/dist-packages (from huggingface_hub>=0.14->mlagents==1.1.0.dev0) (4.12.2)\n",
            "Requirement already satisfied: absl-py>=0.4 in /usr/local/lib/python3.10/dist-packages (from tensorboard>=2.14->mlagents==1.1.0.dev0) (1.4.0)\n",
            "Requirement already satisfied: markdown>=2.6.8 in /usr/local/lib/python3.10/dist-packages (from tensorboard>=2.14->mlagents==1.1.0.dev0) (3.7)\n",
            "Requirement already satisfied: setuptools>=41.0.0 in /usr/local/lib/python3.10/dist-packages (from tensorboard>=2.14->mlagents==1.1.0.dev0) (71.0.4)\n",
            "Requirement already satisfied: tensorboard-data-server<0.8.0,>=0.7.0 in /usr/local/lib/python3.10/dist-packages (from tensorboard>=2.14->mlagents==1.1.0.dev0) (0.7.2)\n",
            "Requirement already satisfied: werkzeug>=1.0.1 in /usr/local/lib/python3.10/dist-packages (from tensorboard>=2.14->mlagents==1.1.0.dev0) (3.0.4)\n",
            "Requirement already satisfied: sympy in /usr/local/lib/python3.10/dist-packages (from torch>=2.1.1->mlagents==1.1.0.dev0) (1.13.2)\n",
            "Requirement already satisfied: networkx in /usr/local/lib/python3.10/dist-packages (from torch>=2.1.1->mlagents==1.1.0.dev0) (3.3)\n",
            "Requirement already satisfied: jinja2 in /usr/local/lib/python3.10/dist-packages (from torch>=2.1.1->mlagents==1.1.0.dev0) (3.1.4)\n",
            "Requirement already satisfied: gym-notices>=0.0.4 in /usr/local/lib/python3.10/dist-packages (from gym>=0.21.0->mlagents_envs==1.1.0.dev0->mlagents==1.1.0.dev0) (0.0.8)\n",
            "Requirement already satisfied: MarkupSafe>=2.1.1 in /usr/local/lib/python3.10/dist-packages (from werkzeug>=1.0.1->tensorboard>=2.14->mlagents==1.1.0.dev0) (2.1.5)\n",
            "Requirement already satisfied: charset-normalizer<4,>=2 in /usr/local/lib/python3.10/dist-packages (from requests->huggingface_hub>=0.14->mlagents==1.1.0.dev0) (3.3.2)\n",
            "Requirement already satisfied: idna<4,>=2.5 in /usr/local/lib/python3.10/dist-packages (from requests->huggingface_hub>=0.14->mlagents==1.1.0.dev0) (3.8)\n",
            "Requirement already satisfied: urllib3<3,>=1.21.1 in /usr/local/lib/python3.10/dist-packages (from requests->huggingface_hub>=0.14->mlagents==1.1.0.dev0) (2.0.7)\n",
            "Requirement already satisfied: certifi>=2017.4.17 in /usr/local/lib/python3.10/dist-packages (from requests->huggingface_hub>=0.14->mlagents==1.1.0.dev0) (2024.7.4)\n",
            "Requirement already satisfied: mpmath<1.4,>=1.1.0 in /usr/local/lib/python3.10/dist-packages (from sympy->torch>=2.1.1->mlagents==1.1.0.dev0) (1.3.0)\n",
            "Building wheels for collected packages: mlagents\n",
            "  Building wheel for mlagents (setup.py) ... \u001b[?25l\u001b[?25hdone\n",
            "  Created wheel for mlagents: filename=mlagents-1.1.0.dev0-py3-none-any.whl size=171442 sha256=7587ab4f1586eb2a322cbf50bd27332c43a0bea9f119e004430291ca10fb392a\n",
            "  Stored in directory: /root/.cache/pip/wheels/90/f9/f3/05444ae1e763d3ed872e12f2ca47ef57ad9f8045d927bf68ad\n",
            "Successfully built mlagents\n",
            "Installing collected packages: mlagents\n",
            "  Attempting uninstall: mlagents\n",
            "    Found existing installation: mlagents 1.1.0.dev0\n",
            "    Uninstalling mlagents-1.1.0.dev0:\n",
            "      Successfully uninstalled mlagents-1.1.0.dev0\n",
            "Successfully installed mlagents-1.1.0.dev0\n"
          ]
        }
      ]
    },
    {
      "cell_type": "code",
      "source": [
        "import platform\n",
        "import mlagents\n",
        "from mlagents_envs.environment import UnityEnvironment\n",
        "from mlagents_envs.envs import SoccerTwos\n",
        "from mlagents_envs.base_env import ActionTuple\n",
        "from mlagents_envs.registry import default_registry\n",
        "from mlagents_envs.side_channel.engine_configuration_channel import EngineConfigurationChannel\n",
        "import numpy as np\n",
        "import random\n",
        "import torch\n",
        "import torch.nn as nn\n",
        "import torch.optim as optim\n",
        "from collections import deque\n",
        "import matplotlib.pyplot as plt\n",
        "\n",
        "from importlib.metadata import version"
      ],
      "metadata": {
        "id": "X2lYEV6kYbDB"
      },
      "execution_count": 4,
      "outputs": []
    },
    {
      "cell_type": "code",
      "source": [
        "print(\"Python version:\", platform.python_version())\n",
        "print(\"PyTorch version:\", version(\"torch\"))\n",
        "print(\"ML-Agents version:\", version(\"mlagents\"))\n",
        "print(\"CUDA available:\", torch.cuda.is_available())\n",
        "print(\"GPU name:\", torch.cuda.get_device_name(0)) if torch.cuda.is_available() else print(\"No GPU available\")"
      ],
      "metadata": {
        "colab": {
          "base_uri": "https://localhost:8080/"
        },
        "id": "0fbddpoxjCIh",
        "outputId": "4eec781f-bd5a-4ac2-8719-a890969404ca"
      },
      "execution_count": 5,
      "outputs": [
        {
          "output_type": "stream",
          "name": "stdout",
          "text": [
            "Python version: 3.10.12\n",
            "PyTorch version: 2.4.0+cu121\n",
            "ML-Agents version: 1.1.0.dev0\n",
            "CUDA available: False\n",
            "No GPU available\n"
          ]
        }
      ]
    },
    {
      "cell_type": "code",
      "source": [
        "class DQNetwork(nn.Module):\n",
        "    def __init__(self, state_size, action_size):\n",
        "        super(DQNetwork, self).__init__()\n",
        "        self.fc1 = nn.Linear(state_size, 128)\n",
        "        self.fc2 = nn.Linear(128, 128)\n",
        "        self.fc3 = nn.Linear(128, action_size)\n",
        "\n",
        "    def forward(self, x):\n",
        "        x = torch.relu(self.fc1(x))\n",
        "        x = torch.relu(self.fc2(x))\n",
        "        return self.fc3(x)\n"
      ],
      "metadata": {
        "id": "UvMOEM4IYcn3"
      },
      "execution_count": 6,
      "outputs": []
    },
    {
      "cell_type": "code",
      "source": [
        "class DQNAgent:\n",
        "    def __init__(self, state_size, action_size):\n",
        "        self.state_size = state_size\n",
        "        self.action_size = action_size\n",
        "        self.memory = deque(maxlen=2000)\n",
        "        self.gamma = 0.99    # discount rate\n",
        "        self.epsilon = 1.0   # exploration rate\n",
        "        self.epsilon_min = 0.01\n",
        "        self.epsilon_decay = 0.995\n",
        "        self.learning_rate = 0.001\n",
        "        self.model = DQNetwork(state_size, action_size)\n",
        "        self.target_model = DQNetwork(state_size, action_size)\n",
        "        self.optimizer = optim.Adam(self.model.parameters(), lr=self.learning_rate)\n",
        "        self.update_target_model()\n",
        "\n",
        "    def update_target_model(self):\n",
        "        self.target_model.load_state_dict(self.model.state_dict())\n",
        "\n",
        "    def remember(self, state, action, reward, next_state, done):\n",
        "        self.memory.append((state, action, reward, next_state, done))\n",
        "\n",
        "    def act(self, state):\n",
        "        if np.random.rand() <= self.epsilon:\n",
        "            return random.randrange(self.action_size)\n",
        "        state = torch.tensor(state, dtype=torch.float).unsqueeze(0)\n",
        "        act_values = self.model(state)\n",
        "        return np.argmax(act_values.detach().numpy()[0])\n",
        "\n",
        "    def replay(self, batch_size):\n",
        "        minibatch = random.sample(self.memory, batch_size)\n",
        "        for state, action, reward, next_state, done in minibatch:\n",
        "            target = reward\n",
        "            if not done:\n",
        "                next_state = torch.tensor(next_state, dtype=torch.float).unsqueeze(0)\n",
        "                target = reward + self.gamma * np.amax(self.target_model(next_state).detach().numpy())\n",
        "            state = torch.tensor(state, dtype=torch.float).unsqueeze(0)\n",
        "            target_f = self.model(state).detach().numpy()\n",
        "            target_f[0][action] = target\n",
        "            target_f = torch.tensor(target_f)\n",
        "            self.optimizer.zero_grad()\n",
        "            outputs = self.model(state)\n",
        "            loss = nn.MSELoss()(outputs, target_f)\n",
        "            loss.backward()\n",
        "            self.optimizer.step()\n",
        "        if self.epsilon > self.epsilon_min:\n",
        "            self.epsilon *= self.epsilon_decay\n"
      ],
      "metadata": {
        "id": "nMfp-_jYYeHd"
      },
      "execution_count": 7,
      "outputs": []
    },
    {
      "cell_type": "code",
      "source": [
        "from mlagents_envs.registry import default_registry\n",
        "\n",
        "env = default_registry[\"SoccerTwos\"].make(no_graphics=True)\n",
        "#env.reset()"
      ],
      "metadata": {
        "colab": {
          "base_uri": "https://localhost:8080/"
        },
        "id": "ee8yqKjqnwl4",
        "outputId": "4fe5ba21-7349-4e5a-806e-23a6c9403575"
      },
      "execution_count": 19,
      "outputs": [
        {
          "output_type": "stream",
          "name": "stderr",
          "text": [
            "/usr/local/lib/python3.10/dist-packages/ipykernel/ipkernel.py:283: DeprecationWarning: `should_run_async` will not call `transform_cell` automatically in the future. Please pass the result to `transformed_cell` argument and any exception that happen during thetransform in `preprocessing_exc_tuple` in IPython 7.17 and above.\n",
            "  and should_run_async(code)\n",
            "/usr/local/lib/python3.10/dist-packages/mlagents_envs/environment.py:94: DeprecationWarning: distutils Version classes are deprecated. Use packaging.version instead.\n",
            "  unity_communicator_version = StrictVersion(unity_com_ver)\n"
          ]
        }
      ]
    },
    {
      "cell_type": "code",
      "source": [
        "env_path = \"opt/Editor/env\"\n",
        "engine_channel = EngineConfigurationChannel()\n",
        "env = UnityEnvironment(file_name=env_path, side_channels=[engine_channel])\n",
        "engine_channel.set_configuration_parameters(time_scale=20.0)\n",
        "env.reset()"
      ],
      "metadata": {
        "colab": {
          "base_uri": "https://localhost:8080/",
          "height": 365
        },
        "id": "hrj3Td3ZhKr9",
        "outputId": "0f01f80e-1c17-479e-d307-71c86cd1353e"
      },
      "execution_count": 8,
      "outputs": [
        {
          "output_type": "error",
          "ename": "UnityEnvironmentException",
          "evalue": "Couldn't launch the opt/Editor/env environment. Provided filename does not match any environments.",
          "traceback": [
            "\u001b[0;31m---------------------------------------------------------------------------\u001b[0m",
            "\u001b[0;31mUnityEnvironmentException\u001b[0m                 Traceback (most recent call last)",
            "\u001b[0;32m<ipython-input-8-b1a6f4dc0b4d>\u001b[0m in \u001b[0;36m<cell line: 3>\u001b[0;34m()\u001b[0m\n\u001b[1;32m      1\u001b[0m \u001b[0menv_path\u001b[0m \u001b[0;34m=\u001b[0m \u001b[0;34m\"opt/Editor/env\"\u001b[0m\u001b[0;34m\u001b[0m\u001b[0;34m\u001b[0m\u001b[0m\n\u001b[1;32m      2\u001b[0m \u001b[0mengine_channel\u001b[0m \u001b[0;34m=\u001b[0m \u001b[0mEngineConfigurationChannel\u001b[0m\u001b[0;34m(\u001b[0m\u001b[0;34m)\u001b[0m\u001b[0;34m\u001b[0m\u001b[0;34m\u001b[0m\u001b[0m\n\u001b[0;32m----> 3\u001b[0;31m \u001b[0menv\u001b[0m \u001b[0;34m=\u001b[0m \u001b[0mUnityEnvironment\u001b[0m\u001b[0;34m(\u001b[0m\u001b[0mfile_name\u001b[0m\u001b[0;34m=\u001b[0m\u001b[0menv_path\u001b[0m\u001b[0;34m,\u001b[0m \u001b[0mside_channels\u001b[0m\u001b[0;34m=\u001b[0m\u001b[0;34m[\u001b[0m\u001b[0mengine_channel\u001b[0m\u001b[0;34m]\u001b[0m\u001b[0;34m)\u001b[0m\u001b[0;34m\u001b[0m\u001b[0;34m\u001b[0m\u001b[0m\n\u001b[0m\u001b[1;32m      4\u001b[0m \u001b[0mengine_channel\u001b[0m\u001b[0;34m.\u001b[0m\u001b[0mset_configuration_parameters\u001b[0m\u001b[0;34m(\u001b[0m\u001b[0mtime_scale\u001b[0m\u001b[0;34m=\u001b[0m\u001b[0;36m20.0\u001b[0m\u001b[0;34m)\u001b[0m\u001b[0;34m\u001b[0m\u001b[0;34m\u001b[0m\u001b[0m\n\u001b[1;32m      5\u001b[0m \u001b[0menv\u001b[0m\u001b[0;34m.\u001b[0m\u001b[0mreset\u001b[0m\u001b[0;34m(\u001b[0m\u001b[0;34m)\u001b[0m\u001b[0;34m\u001b[0m\u001b[0;34m\u001b[0m\u001b[0m\n",
            "\u001b[0;32m/usr/local/lib/python3.10/dist-packages/mlagents_envs/environment.py\u001b[0m in \u001b[0;36m__init__\u001b[0;34m(self, file_name, worker_id, base_port, seed, no_graphics, no_graphics_monitor, timeout_wait, additional_args, side_channels, log_folder, num_areas)\u001b[0m\n\u001b[1;32m    213\u001b[0m         \u001b[0;32mif\u001b[0m \u001b[0mfile_name\u001b[0m \u001b[0;32mis\u001b[0m \u001b[0;32mnot\u001b[0m \u001b[0;32mNone\u001b[0m\u001b[0;34m:\u001b[0m\u001b[0;34m\u001b[0m\u001b[0;34m\u001b[0m\u001b[0m\n\u001b[1;32m    214\u001b[0m             \u001b[0;32mtry\u001b[0m\u001b[0;34m:\u001b[0m\u001b[0;34m\u001b[0m\u001b[0;34m\u001b[0m\u001b[0m\n\u001b[0;32m--> 215\u001b[0;31m                 self._process = env_utils.launch_executable(\n\u001b[0m\u001b[1;32m    216\u001b[0m                     \u001b[0mfile_name\u001b[0m\u001b[0;34m,\u001b[0m \u001b[0mself\u001b[0m\u001b[0;34m.\u001b[0m\u001b[0m_executable_args\u001b[0m\u001b[0;34m(\u001b[0m\u001b[0;34m)\u001b[0m\u001b[0;34m\u001b[0m\u001b[0;34m\u001b[0m\u001b[0m\n\u001b[1;32m    217\u001b[0m                 )\n",
            "\u001b[0;32m/usr/local/lib/python3.10/dist-packages/mlagents_envs/env_utils.py\u001b[0m in \u001b[0;36mlaunch_executable\u001b[0;34m(file_name, args)\u001b[0m\n\u001b[1;32m     99\u001b[0m     \u001b[0mlaunch_string\u001b[0m \u001b[0;34m=\u001b[0m \u001b[0mvalidate_environment_path\u001b[0m\u001b[0;34m(\u001b[0m\u001b[0mfile_name\u001b[0m\u001b[0;34m)\u001b[0m\u001b[0;34m\u001b[0m\u001b[0;34m\u001b[0m\u001b[0m\n\u001b[1;32m    100\u001b[0m     \u001b[0;32mif\u001b[0m \u001b[0mlaunch_string\u001b[0m \u001b[0;32mis\u001b[0m \u001b[0;32mNone\u001b[0m\u001b[0;34m:\u001b[0m\u001b[0;34m\u001b[0m\u001b[0;34m\u001b[0m\u001b[0m\n\u001b[0;32m--> 101\u001b[0;31m         raise UnityEnvironmentException(\n\u001b[0m\u001b[1;32m    102\u001b[0m             \u001b[0;34mf\"Couldn't launch the {file_name} environment. Provided filename does not match any environments.\"\u001b[0m\u001b[0;34m\u001b[0m\u001b[0;34m\u001b[0m\u001b[0m\n\u001b[1;32m    103\u001b[0m         )\n",
            "\u001b[0;31mUnityEnvironmentException\u001b[0m: Couldn't launch the opt/Editor/env environment. Provided filename does not match any environments."
          ]
        }
      ]
    },
    {
      "cell_type": "code",
      "source": [
        "!mlagents-learn --no-graphics"
      ],
      "metadata": {
        "colab": {
          "base_uri": "https://localhost:8080/"
        },
        "id": "2LFfdkIbo_uX",
        "outputId": "6311e8c6-a75c-456d-b0c6-8730134e6ea1"
      },
      "execution_count": 15,
      "outputs": [
        {
          "output_type": "stream",
          "name": "stdout",
          "text": [
            "2024-09-03 02:14:48.075050: E external/local_xla/xla/stream_executor/cuda/cuda_fft.cc:485] Unable to register cuFFT factory: Attempting to register factory for plugin cuFFT when one has already been registered\n",
            "2024-09-03 02:14:48.099630: E external/local_xla/xla/stream_executor/cuda/cuda_dnn.cc:8454] Unable to register cuDNN factory: Attempting to register factory for plugin cuDNN when one has already been registered\n",
            "2024-09-03 02:14:48.106683: E external/local_xla/xla/stream_executor/cuda/cuda_blas.cc:1452] Unable to register cuBLAS factory: Attempting to register factory for plugin cuBLAS when one has already been registered\n",
            "2024-09-03 02:14:48.124556: I tensorflow/core/platform/cpu_feature_guard.cc:210] This TensorFlow binary is optimized to use available CPU instructions in performance-critical operations.\n",
            "To enable the following instructions: AVX2 FMA, in other operations, rebuild TensorFlow with the appropriate compiler flags.\n",
            "2024-09-03 02:14:49.541438: W tensorflow/compiler/tf2tensorrt/utils/py_utils.cc:38] TF-TRT Warning: Could not find TensorRT\n",
            "\n",
            "            ┐  ╖\n",
            "        ╓╖╬│╡  ││╬╖╖\n",
            "    ╓╖╬│││││┘  ╬│││││╬╖\n",
            " ╖╬│││││╬╜        ╙╬│││││╖╖                               ╗╗╗\n",
            " ╬╬╬╬╖││╦╖        ╖╬││╗╣╣╣╬      ╟╣╣╬    ╟╣╣╣             ╜╜╜  ╟╣╣\n",
            " ╬╬╬╬╬╬╬╬╖│╬╖╖╓╬╪│╓╣╣╣╣╣╣╣╬      ╟╣╣╬    ╟╣╣╣ ╒╣╣╖╗╣╣╣╗   ╣╣╣ ╣╣╣╣╣╣ ╟╣╣╖   ╣╣╣\n",
            " ╬╬╬╬┐  ╙╬╬╬╬│╓╣╣╣╝╜  ╫╣╣╣╬      ╟╣╣╬    ╟╣╣╣ ╟╣╣╣╙ ╙╣╣╣  ╣╣╣ ╙╟╣╣╜╙  ╫╣╣  ╟╣╣\n",
            " ╬╬╬╬┐     ╙╬╬╣╣      ╫╣╣╣╬      ╟╣╣╬    ╟╣╣╣ ╟╣╣╬   ╣╣╣  ╣╣╣  ╟╣╣     ╣╣╣┌╣╣╜\n",
            " ╬╬╬╜       ╬╬╣╣      ╙╝╣╣╬      ╙╣╣╣╗╖╓╗╣╣╣╜ ╟╣╣╬   ╣╣╣  ╣╣╣  ╟╣╣╦╓    ╣╣╣╣╣\n",
            " ╙   ╓╦╖    ╬╬╣╣   ╓╗╗╖            ╙╝╣╣╣╣╝╜   ╘╝╝╜   ╝╝╝  ╝╝╝   ╙╣╣╣    ╟╣╣╣\n",
            "   ╩╬╬╬╬╬╬╦╦╬╬╣╣╗╣╣╣╣╣╣╣╝                                             ╫╣╣╣╣\n",
            "      ╙╬╬╬╬╬╬╬╣╣╣╣╣╣╝╜\n",
            "          ╙╬╬╬╣╣╣╜\n",
            "             ╙\n",
            "        \n",
            " Version information:\n",
            "  ml-agents: 1.1.0.dev0,\n",
            "  ml-agents-envs: 1.1.0.dev0,\n",
            "  Communicator API: 1.5.0,\n",
            "  PyTorch: 2.4.0+cu121\n",
            "/usr/lib/python3.10/multiprocessing/popen_fork.py:66: RuntimeWarning: os.fork() was called. os.fork() is incompatible with multithreaded code, and JAX is multithreaded, so this will likely lead to a deadlock.\n",
            "  self.pid = os.fork()\n",
            "[INFO] Listening on port 5004. Start training by pressing the Play button in the Unity Editor.\n",
            "[INFO] Learning was interrupted. Please wait while the graph is generated.\n",
            "Traceback (most recent call last):\n",
            "  File \"/usr/local/bin/mlagents-learn\", line 8, in <module>\n",
            "    sys.exit(main())\n",
            "  File \"/usr/local/lib/python3.10/dist-packages/mlagents/trainers/learn.py\", line 270, in main\n",
            "    run_cli(parse_command_line())\n",
            "  File \"/usr/local/lib/python3.10/dist-packages/mlagents/trainers/learn.py\", line 266, in run_cli\n",
            "    run_training(run_seed, options, num_areas)\n",
            "  File \"/usr/local/lib/python3.10/dist-packages/mlagents/trainers/learn.py\", line 140, in run_training\n",
            "    env_manager.close()\n",
            "  File \"/usr/local/lib/python3.10/dist-packages/mlagents/trainers/subprocess_env_manager.py\", line 489, in close\n",
            "    step: EnvironmentResponse = self.step_queue.get_nowait()\n",
            "  File \"/usr/lib/python3.10/multiprocessing/queues.py\", line 135, in get_nowait\n",
            "    return self.get(False)\n",
            "  File \"/usr/lib/python3.10/multiprocessing/queues.py\", line 115, in get\n",
            "    elif not self._poll():\n",
            "  File \"/usr/lib/python3.10/multiprocessing/connection.py\", line 257, in poll\n",
            "    return self._poll(timeout)\n",
            "  File \"/usr/lib/python3.10/multiprocessing/connection.py\", line 424, in _poll\n",
            "    r = wait([self], timeout)\n",
            "  File \"/usr/lib/python3.10/multiprocessing/connection.py\", line 931, in wait\n",
            "    ready = selector.select(timeout)\n",
            "  File \"/usr/lib/python3.10/selectors.py\", line 416, in select\n",
            "    fd_event_list = self._selector.poll(timeout)\n",
            "KeyboardInterrupt\n",
            "^C\n"
          ]
        }
      ]
    },
    {
      "cell_type": "code",
      "source": [],
      "metadata": {
        "id": "Aq-c1RHwqTpS"
      },
      "execution_count": null,
      "outputs": []
    }
  ]
}